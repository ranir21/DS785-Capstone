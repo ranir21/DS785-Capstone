{
 "cells": [
  {
   "cell_type": "code",
   "execution_count": null,
   "id": "cee46c8a-3123-42f0-871e-db7ac0e24874",
   "metadata": {},
   "outputs": [],
   "source": [
    "import pandas as pd\n",
    "import dask.dataframe as dd\n",
    "\n",
    "# 1. Point to your CSV file (update the path as needed)\n",
    "path = \"D:\\\\Rekha\\\\Capstone\\\\Data\\\\311_Service_Requests_from_2010_to_Present_20250713.csv\"\n",
    "\n",
    "# 2. Read it in\n",
    "df = dd.read_csv(path, dtype=str, keep_default_na=False)\n",
    "\n",
    "# 3. Quick sanity‐check\n",
    "print(df.shape)     # rows, columns\n",
    "print(df.head())    # first 5 rows\n"
   ]
  },
  {
   "cell_type": "code",
   "execution_count": null,
   "id": "37396f91-96e3-490e-88e0-c335974c0bf0",
   "metadata": {},
   "outputs": [],
   "source": [
    "# Example: drop rows missing key fields\n",
    "required = ['Unique Key','Incident Zip','Agency','Agency Name',\n",
    "            'Complaint Type','Status','Open Data Channel Type',\n",
    "            'Latitude','Longitude','Location','Created Date','Closed Date']\n",
    "df_clean = df.dropna(subset=required)\n",
    "\n",
    "df_clean.to_csv(\"D:\\\\Rekha\\\\Capstone\\\\Data\\\\cleaned\\\\cleaned-*.csv\", index=False)"
   ]
  },
  {
   "cell_type": "code",
   "execution_count": null,
   "id": "459d2134-f876-4888-8679-ca469c81107a",
   "metadata": {},
   "outputs": [],
   "source": [
    "import os\n",
    "import glob\n",
    "import pandas as pd\n",
    "\n",
    "# 1. Define the directory and pattern\n",
    "input_dir = \"D:\\\\Rekha\\\\Capstone\\\\Data\\\\Cleaned\"\n",
    "pattern = os.path.join(input_dir, \"*.csv\")\n",
    "\n",
    "# 2. Locate all CSV files\n",
    "csv_files = sorted(glob.glob(pattern))\n",
    "print(f\"Found {len(csv_files)} CSV files:\")\n",
    "for f in csv_files:\n",
    "    print(\" -\", os.path.basename(f))\n",
    "\n",
    "# 3. Read and concatenate using pandas\n",
    "#    If memory is not an issue, pandas.concat is simplest\n",
    "dfs = [pd.read_csv(f, dtype=str) for f in csv_files]\n",
    "merged_df = pd.concat(dfs, ignore_index=True)\n",
    "print(f\"Total rows after merge: {len(merged_df)}\")\n",
    "\n",
    "# 4. Save merged CSV\n",
    "output_path = os.path.join(input_dir, \"311_merged.csv\")\n",
    "merged_df.to_csv(output_path, index=False)\n",
    "print(f\"Merged file written to: {output_path}\")\n",
    "print(\"done\")"
   ]
  },
  {
   "cell_type": "code",
   "execution_count": null,
   "id": "46a9bb61-1d83-468f-9aa8-15c4ac55978e",
   "metadata": {},
   "outputs": [],
   "source": []
  }
 ],
 "metadata": {
  "kernelspec": {
   "display_name": "Python 3 (ipykernel)",
   "language": "python",
   "name": "python3"
  },
  "language_info": {
   "codemirror_mode": {
    "name": "ipython",
    "version": 3
   },
   "file_extension": ".py",
   "mimetype": "text/x-python",
   "name": "python",
   "nbconvert_exporter": "python",
   "pygments_lexer": "ipython3",
   "version": "3.11.7"
  }
 },
 "nbformat": 4,
 "nbformat_minor": 5
}
